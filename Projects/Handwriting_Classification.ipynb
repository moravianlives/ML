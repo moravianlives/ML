{
  "nbformat": 4,
  "nbformat_minor": 0,
  "metadata": {
    "colab": {
      "name": "Handwriting Classification",
      "version": "0.3.2",
      "provenance": [],
      "collapsed_sections": [],
      "toc_visible": true,
      "include_colab_link": true
    },
    "kernelspec": {
      "name": "python3",
      "display_name": "Python 3"
    },
    "accelerator": "GPU"
  },
  "cells": [
    {
      "cell_type": "markdown",
      "metadata": {
        "id": "view-in-github",
        "colab_type": "text"
      },
      "source": [
        "<a href=\"https://colab.research.google.com/github/katiefaull/ML/blob/master/Handwriting_Classification.ipynb\" target=\"_parent\"><img src=\"https://colab.research.google.com/assets/colab-badge.svg\" alt=\"Open In Colab\"/></a>"
      ]
    },
    {
      "cell_type": "markdown",
      "metadata": {
        "id": "Id5QGHY02oof",
        "colab_type": "text"
      },
      "source": [
        "# Training and Testing with Images from Moravian Lives Website"
      ]
    },
    {
      "cell_type": "markdown",
      "metadata": {
        "id": "-OJt-D5lNYlG",
        "colab_type": "text"
      },
      "source": [
        "Importing necessary libraries"
      ]
    },
    {
      "cell_type": "code",
      "metadata": {
        "id": "rIuu7nbpSHjD",
        "colab_type": "code",
        "colab": {}
      },
      "source": [
        "import cv2\n",
        "import os\n",
        "import os.path\n",
        "from os import path\n",
        "import tempfile\n",
        "from sklearn.datasets import load_sample_images\n",
        "from sklearn.feature_extraction import image\n",
        "from skimage import data\n",
        "from skimage import io\n",
        "from sklearn.model_selection import KFold\n",
        "from sklearn.model_selection import train_test_split\n",
        "from scipy import stats\n",
        "from keras.utils import to_categorical\n",
        "from keras.models import Sequential\n",
        "from keras.layers import Dense, Dropout, Flatten, Lambda, ELU, Activation, BatchNormalization\n",
        "from keras.layers.convolutional import Convolution2D, Cropping2D, ZeroPadding2D, MaxPooling2D\n",
        "from keras.optimizers import SGD, Adam, RMSprop\n",
        "from keras.models import load_model\n",
        "import numpy as np\n",
        "import matplotlib.pyplot as plt\n",
        "import random\n",
        "import csv\n",
        "import pandas\n",
        "import time\n",
        "from sklearn.utils import shuffle\n",
        "import re\n",
        "import urllib"
      ],
      "execution_count": 0,
      "outputs": []
    },
    {
      "cell_type": "markdown",
      "metadata": {
        "id": "ifxqtjKBOTa-",
        "colab_type": "text"
      },
      "source": [
        "This is the deep learning model."
      ]
    },
    {
      "cell_type": "code",
      "metadata": {
        "id": "xg3pWlkdhSsq",
        "colab_type": "code",
        "colab": {}
      },
      "source": [
        "def create_model(learn_rate = 0.0005, patch_row = 100, patch_col = 200):\n",
        "  model = Sequential()\n",
        "  model.add(ZeroPadding2D((1, 1), input_shape=(patch_row, patch_col, 1)))\n",
        "  model.add(Convolution2D(filters= 32, kernel_size =(3,3), strides= (1,1), padding='same', name='conv1', activation='relu')) #96\n",
        "  model.add(MaxPooling2D(pool_size=(2,2),strides=(2,2), name='pool1'))\n",
        "\n",
        "  model.add(Convolution2D(filters= 64, kernel_size =(3,3), strides= (1,1), padding='same', name='conv2', activation='relu'))  #256\n",
        "  model.add(MaxPooling2D(pool_size=(2,2),strides=(2,2), name='pool2'))\n",
        "\n",
        "  model.add(Convolution2D(filters= 128, kernel_size =(3,3), strides= (1,1), padding='same', name='conv3', activation='relu'))  #256\n",
        "  model.add(MaxPooling2D(pool_size=(2,2),strides=(2,2), name='pool3'))\n",
        "\n",
        "\n",
        "  model.add(Flatten())\n",
        "  model.add(Dropout(0.5))\n",
        "  \n",
        "  model.add(Dense(128, name='dense3', activation='relu'))  #1024\n",
        "  model.add(Dropout(0.3))\n",
        "  \n",
        "  model.add(Dense(64, name='dense4', activation='relu'))  #1024\n",
        "  model.add(Dropout(0.3))\n",
        "\n",
        "  model.add(Dense(NUM_AUTHORS,name='output', activation='softmax'))\n",
        "\n",
        "  model.compile(loss='categorical_crossentropy', optimizer=Adam(lr=learn_rate), metrics=['accuracy'])\n",
        "  print(model.summary())\n",
        "  return model"
      ],
      "execution_count": 0,
      "outputs": []
    },
    {
      "cell_type": "markdown",
      "metadata": {
        "id": "eNxnbtMRNtAK",
        "colab_type": "text"
      },
      "source": [
        "This function takes a filepath with a grayscaled image and extracts a maximun of 15 patches. There can be less than 15 patches if the image fails to produce patches that pass the filter."
      ]
    },
    {
      "cell_type": "code",
      "metadata": {
        "id": "JdquC2FNPNEO",
        "colab_type": "code",
        "colab": {}
      },
      "source": [
        "def image_patches(image_path):\n",
        "  try:\n",
        "    img = io.imread(image_path)\n",
        "    grayscaled = cv2.cvtColor(img,cv2.COLOR_BGR2GRAY)  \n",
        "    rescale_factors = [.8,.9,1.0,1.1,1.2]\n",
        "    rescaled_images = []\n",
        "    for factor in rescale_factors:\n",
        "      rescaled_images.append(cv2.resize(grayscaled,(0,0),fx=factor,fy=factor,interpolation = cv2.INTER_LINEAR))\n",
        "\n",
        "    patch_list = []\n",
        "    patch_nums = []\n",
        "    patch_num = 0\n",
        "\n",
        "    for i in range(NUM_PATCHES):\n",
        "      is_valid_patch = False\n",
        "      bad_count = 0\n",
        "      while not is_valid_patch:\n",
        "        rand = random.randint(0,len(rescale_factors)-1)\n",
        "        patch = image.extract_patches_2d(rescaled_images[rand],patch_size=(patch_row,patch_col),max_patches=1,random_state=np.random.RandomState())[0]\n",
        "        if patch.std(axis=0).std() < 5 or patch.std(axis=1).std() < 5 or patch.std(axis=0).mean() < 15 or patch.std(axis=1).mean() < 15 or patch.mean(axis=(0,1)) > 200:\n",
        "          bad_count += 1\n",
        "          if bad_count >= MAX_RETRY:\n",
        "            plt.imshow(patch,cmap=plt.cm.gray)\n",
        "            plt.show()\n",
        "            print(\"Tried 200 Times on {}\".format(image_path))\n",
        "            break\n",
        "        else:\n",
        "          patch_list.append(patch)\n",
        "          patch_nums.append(patch_num)\n",
        "          is_valid_patch = True\n",
        "          patch_num+=1\n",
        "    print(\"Number of testpatches for {}: {}\".format(image_path,len(patch_list)))\n",
        "    return patch_list, patch_nums\n",
        "  except:\n",
        "    print(\"Error with:\",image_path)\n",
        "    return [],[]\n",
        "    pass\n"
      ],
      "execution_count": 0,
      "outputs": []
    },
    {
      "cell_type": "markdown",
      "metadata": {
        "id": "0NQWhH1iGXXr",
        "colab_type": "text"
      },
      "source": [
        "Just a regex that finds all the url and the names (of the memoirs) and creates a dictionary. If multiple memoir have the same name, it combines them. "
      ]
    },
    {
      "cell_type": "code",
      "metadata": {
        "id": "XtiwC_BiriHK",
        "colab_type": "code",
        "colab": {}
      },
      "source": [
        "def extract_url_links(url):\n",
        "  all_links = {}\n",
        "  url_textfile = urllib.request.urlopen(url)\n",
        "  for line in url_textfile:\n",
        "    name = re.findall('(([A-Z][a-z]*),\\s([A-Z][a-z]*)(\\s[A-Z][a-z]*)?)|(Unknown)', line.decode())\n",
        "    url = re.findall('(http://[\\w./|_-]*)', line.decode())\n",
        "    if len(name) != 0 and not name[0][0] in all_links:\n",
        "      if name[0][4] == \"Unknown\":\n",
        "        url_links = []\n",
        "        all_links[name[0][4]] = url_links\n",
        "      else:\n",
        "        url_links = []\n",
        "        all_links[name[0][0]] = url_links\n",
        "    if len(url) != 0:\n",
        "      url_links.extend(url)\n",
        "  return all_links"
      ],
      "execution_count": 0,
      "outputs": []
    },
    {
      "cell_type": "markdown",
      "metadata": {
        "id": "whAFG1W4WgFn",
        "colab_type": "text"
      },
      "source": [
        "This takes a list of image urls and grayscale and rescales them and creates NUM_TRAIN_PATCHES_PER_WRITER patches for each author."
      ]
    },
    {
      "cell_type": "code",
      "metadata": {
        "id": "hBPpgAuIvy1A",
        "colab_type": "code",
        "colab": {}
      },
      "source": [
        "def author_patches(img_list):\n",
        "  rescale_factors = [.8,.9,1.0,1.1,1.2]\n",
        "  rescaled_images = []\n",
        "  img_ids = []\n",
        "  for img_url in img_list:\n",
        "    img = io.imread(img_url)\n",
        "    grayscaled = cv2.cvtColor(img,cv2.COLOR_BGR2GRAY)  \n",
        "    for factor in rescale_factors:\n",
        "      rescaled_images.append(cv2.resize(grayscaled,(0,0),fx=factor,fy=factor,interpolation = cv2.INTER_LINEAR))\n",
        "      img_ids.append(img_url)\n",
        "      \n",
        "  patch_list = []\n",
        "  patch_nums = []\n",
        "  patch_num = 0\n",
        "  while len(patch_list) < NUM_TRAIN_PATCHES_PER_WRITER:\n",
        "    is_valid_patch = False\n",
        "    bad_count = 0\n",
        "    while not is_valid_patch:\n",
        "      rand = random.randint(0,len(rescale_factors)-1)\n",
        "      patch = image.extract_patches_2d(rescaled_images[rand],patch_size=(patch_row,patch_col),max_patches=1,random_state=np.random.RandomState())[0]\n",
        "      if patch.std(axis=0).std() < 5 or patch.std(axis=1).std() < 5 or patch.std(axis=0).mean() < 15 or patch.std(axis=1).mean() < 15 or patch.mean(axis=(0,1)) > 200:\n",
        "        bad_count += 1\n",
        "        if bad_count >= MAX_RETRY:\n",
        "          print(\"Tried 200 Times on {}\".format(img_ids[rand]))\n",
        "          print(\"Stdev Stdev0: {}, Stdev Stdev1: {}, Stdev0 Mean: {}, Stdev1 Mean: {}, Mean01: {}\".format(patch.std(axis=0).std(),patch.std(axis=1).std(),patch.std(axis=0).mean(),patch.std(axis=1).mean(),patch.mean(axis=(0,1))))\n",
        "          plt.imshow(patch,cmap=plt.cm.gray)\n",
        "          plt.show()\n",
        "          break\n",
        "      else:\n",
        "        patch_list.append(patch)\n",
        "        patch_nums.append(patch_num)\n",
        "        is_valid_patch = True\n",
        "        patch_num+=1\n",
        "  return patch_list, patch_nums\n",
        "\n"
      ],
      "execution_count": 0,
      "outputs": []
    },
    {
      "cell_type": "markdown",
      "metadata": {
        "id": "7bjaII5FXF3A",
        "colab_type": "text"
      },
      "source": [
        "Splits the urls to be used for training and testing, creates training and testing sets and normalizes them to be used in the model."
      ]
    },
    {
      "cell_type": "code",
      "metadata": {
        "id": "mNXMj3ad2OdZ",
        "colab_type": "code",
        "colab": {}
      },
      "source": [
        "def create_and_prep_patches(authors_url_dict):\n",
        "  authors_list = []\n",
        "  train_patches_list = []\n",
        "  test_patches_list = []\n",
        "  train_tags_list = []\n",
        "  test_tags_list = []\n",
        "  test_img_ids = []\n",
        "  tag_num = -1\n",
        "  for i in authors_url_dict:\n",
        "    if len(authors_url_dict[i]) >= 10:\n",
        "      authors_list.append(i)\n",
        "      tag_num+=1\n",
        "      random.shuffle(authors_url_dict[i])\n",
        "      test_size = round(len(authors_url_dict[i])*TEST_PERCENT)\n",
        "\n",
        "      print(\"Creating testset for {}\".format(i))\n",
        "      for j in authors_url_dict[i][:test_size]:\n",
        "        patches,patch_num = image_patches(j)\n",
        "        test_patches_list.extend(patches)\n",
        "        test_tags_list.extend([tag_num]*len(patches))\n",
        "        test_img_ids.extend([j]*len(patches)) \n",
        "        \n",
        "      print(\"Creating trainset for {}\".format(i))\n",
        "      patches,_ = author_patches(authors_url_dict[i][test_size:])\n",
        "      train_patches_list.extend(patches)\n",
        "      train_tags_list.extend([tag_num]*len(patches))\n",
        "      print(\"Number of training patches from {}: {}\".format(i,len(patches)))\n",
        "  print(\"Finished Creating Patches\")\n",
        "\n",
        "  train_patches_list = np.array(train_patches_list)\n",
        "  test_patches_list = np.array(test_patches_list)\n",
        "  train_tags_list = np.array(train_tags_list)\n",
        "  test_tags_list = np.array(test_tags_list)\n",
        "\n",
        "  train_patches_list = train_patches_list.reshape(train_patches_list.shape[0],patch_row,patch_col,1)\n",
        "  train_patches_list = train_patches_list.astype('float32')\n",
        "  train_patches_list /= 255.0 \n",
        "\n",
        "  test_patches_list = test_patches_list.reshape(test_patches_list.shape[0],patch_row,patch_col,1)\n",
        "  test_patches_list = test_patches_list.astype('float32')\n",
        "  test_patches_list /= 255.0 \n",
        "\n",
        "  train_tags_list = to_categorical(train_tags_list)\n",
        "  test_tags_list = to_categorical(test_tags_list)\n",
        "\n",
        "  train_patches_list,train_tags_list = shuffle(train_patches_list,train_tags_list)\n",
        "  \n",
        "  return (authors_list,train_patches_list,test_patches_list,train_tags_list,test_tags_list,test_img_ids)\n"
      ],
      "execution_count": 0,
      "outputs": []
    },
    {
      "cell_type": "markdown",
      "metadata": {
        "id": "1cPwMhEqXiAe",
        "colab_type": "text"
      },
      "source": [
        "Calls the model and stores prediction into a pandas dataframe."
      ]
    },
    {
      "cell_type": "code",
      "metadata": {
        "id": "8z6TTdmzmbso",
        "colab_type": "code",
        "colab": {}
      },
      "source": [
        "def fit_and_predict(train_patches_list, train_tags_list, test_patches_list, test_tags_list, authors_list, test_img_ids ):\n",
        "  model = create_model()\n",
        "  model.fit(train_patches_list, train_tags_list, epochs=NUM_EPOCHS,batch_size=32,verbose=1)\n",
        "  prediction = model.predict(x=test_patches_list,verbose=1)\n",
        "  df = pandas.DataFrame.from_records(prediction,columns=authors_list)\n",
        "  actual_nums = np.argmax(test_tags_list,axis=1)\n",
        "  df[\"Actual Authors\"] = np.array(authors_list)[actual_nums]\n",
        "  df[\"Image ID\"] = test_img_ids\n",
        "  return df"
      ],
      "execution_count": 0,
      "outputs": []
    },
    {
      "cell_type": "markdown",
      "metadata": {
        "id": "NXNwEnhAGF-Q",
        "colab_type": "text"
      },
      "source": [
        "It plots and shows the results for each image as well as the total accuracy score."
      ]
    },
    {
      "cell_type": "code",
      "metadata": {
        "id": "sZKQLqx987X0",
        "colab_type": "code",
        "colab": {}
      },
      "source": [
        "def plot_results(authors_list,prediction_data):\n",
        "  #sel = df[authors_list].apply(max,axis=1) > 0.7 \n",
        "  #grouped_df = df.loc[sel].groupby(by=[\"Actual Authors\",\"Image ID\"])\n",
        "  grouped_df = prediction_data.groupby(by=[\"Actual Authors\",\"Image ID\"])\n",
        "  correct = 0\n",
        "  correct_list = []\n",
        "  incorrect_list = []\n",
        "  for index, row in grouped_df[authors_list].mean().iterrows():\n",
        "    dist = grouped_df[authors_list].mean().loc[index]\n",
        "    predicted_author = row.idxmax(1)\n",
        "    actual_author = index[0]\n",
        "    color = \"green\"\n",
        "    if predicted_author == actual_author:\n",
        "      correct += 1\n",
        "      print(index[1])\n",
        "    else:\n",
        "      color = \"red\"\n",
        "      print(index[1])\n",
        "    dist.plot.bar(color=color)\n",
        "    plt.text(0,.9,\"Predicted: {}\\n Actual: {}\".format(predicted_author,actual_author),bbox=dict(facecolor=color, alpha=0.5))\n",
        "    plt.title(\"{}\".format(index[1]))\n",
        "    plt.ylim([0,1])\n",
        "    plt.xlabel(\"Authors\")\n",
        "    plt.ylabel(\"Prediction Percentage\")\n",
        "    plt.show()\n",
        "  acc = correct/len(grouped_df[authors_list].mean())\n",
        "  print('Accuracy: {acc:.2%} '.format(acc=acc))\n",
        "\n",
        "  _,_,bars = plt.hist([\"Correct\",\"Incorrect\"],weights=[acc,1-acc],align='mid')\n",
        "  plt.ylim([0,1])\n",
        "  plt.title(\"Correct vs Incorrect Predictions\")\n",
        "  bars[0].set_facecolor('g')\n",
        "  bars[-1].set_facecolor('r')\n",
        "  plt.show()\n",
        "  return acc"
      ],
      "execution_count": 0,
      "outputs": []
    },
    {
      "cell_type": "markdown",
      "metadata": {
        "id": "LUBqtdc7F0qS",
        "colab_type": "text"
      },
      "source": [
        "Takes the results, the accuracy of the images and the table and stores it into a csv file."
      ]
    },
    {
      "cell_type": "code",
      "metadata": {
        "id": "ZVLuBQv7_OSh",
        "colab_type": "code",
        "colab": {}
      },
      "source": [
        "def results_to_csv(df,acc):\n",
        "  \n",
        "  from google.colab import auth,drive\n",
        "  auth.authenticate_user()\n",
        "\n",
        "  import gspread\n",
        "  from oauth2client.client import GoogleCredentials\n",
        "  import gspread_dataframe\n",
        "\n",
        "  os.environ['TZ'] = 'US/Eastern'\n",
        "  time.tzset()\n",
        "\n",
        "\n",
        "  gc = gspread.authorize(GoogleCredentials.get_application_default())\n",
        "\n",
        "  \n",
        "  #Preparing to store results in a csv file\n",
        "  param_data = [[\"Number of training patches per writer\",NUM_TRAIN_PATCHES_PER_WRITER],\n",
        "                [\"Row Size\",patch_row],[\"Column Size\",patch_col],[\"Test Percentage\",TEST_PERCENT],[\"Num Epochs\",NUM_EPOCHS]]\n",
        "\n",
        "  train_info = pandas.DataFrame(param_data, columns=['Parameter','Number'])\n",
        "\n",
        "  t = time.localtime(time.time())\n",
        "  name = \"results_{}/{}/{}-{}:{}_{}_{}\".format(t[0],t[1],t[2],t[3],t[4],str(NUM_PATCHES),str(NUM_EPOCHS))\n",
        "  sh = gc.create(name)\n",
        "  worksheet = gc.open(name).sheet1\n",
        "\n",
        "  \n",
        "  gspread_dataframe.set_with_dataframe(worksheet,train_info)\n",
        "  gspread_dataframe.set_with_dataframe(worksheet,df.groupby(by=[\"Actual Authors\",\"Image ID\"],as_index=False).mean().round(4),row=train_info.shape[0]+2,col=1)\n",
        "  gspread_dataframe.set_with_dataframe(worksheet,pandas.DataFrame([acc],columns=[\"Accuracy\"]),row=train_info.shape[0]+df.groupby(by=[\"Actual Authors\",\"Image ID\"]).mean().round(4).shape[0]+4,col=1)"
      ],
      "execution_count": 0,
      "outputs": []
    },
    {
      "cell_type": "markdown",
      "metadata": {
        "id": "m-nAbXcj7Xo3",
        "colab_type": "text"
      },
      "source": [
        "We need to build a training dataset that has equal number of patches per transcriber. The problem is that we don't have the same number of images supplied per transcriber. Let's take a compeltely random approach to building a solid training dataset per transcriber:\n",
        "\n",
        "NUM_TRAIN_PATCHES_PER_WRITER = 300\n",
        "This is the number of patches desired by each writer\n",
        "\n",
        "For each writer:  \n",
        "    1) Select an image at random\n",
        "    2) generate a random patch\n",
        "    3) Add to collection of patches for that writer\n",
        "\n",
        "Edits:\n",
        "For each writer:\n",
        "    1. Load, grayscale and rescale every image and add onto a list\n",
        "    2. Randomly select from the list and create 1 random patches\n",
        "    3. If the patch passes, add to the collection of patches for that writer and loop until there are **NUM_TRAIN_PATCHES_PER_WRITER** patches\n",
        "\n",
        "\n",
        "By the end of this algorithm, you should have an equal number of patches for each writer\n",
        "    \n"
      ]
    },
    {
      "cell_type": "markdown",
      "metadata": {
        "id": "MvQNbs-4FSt4",
        "colab_type": "text"
      },
      "source": [
        "This combines the codes and is used to run the program. \n",
        "Variables are listed there and can be changed. The 'url' can also be changed.\n",
        "If you do not want the results to be stored in a csv file comment the last line."
      ]
    },
    {
      "cell_type": "code",
      "metadata": {
        "id": "o-WuHamPiFR9",
        "colab_type": "code",
        "outputId": "c2fb1b94-0391-42de-c4c9-c58da7ed71d2",
        "colab": {
          "base_uri": "https://localhost:8080/",
          "height": 1000
        }
      },
      "source": [
        "#Trying get 300 patches from each writers\n",
        "\n",
        "NUM_TRAIN_PATCHES_PER_WRITER = 300\n",
        "(patch_row,patch_col) = (100,200)\n",
        "TEST_PERCENT = .1\n",
        "NUM_PATCHES = 15\n",
        "MAX_RETRY = 200\n",
        "NUM_EPOCHS = 100\n",
        "\n",
        "url = \"https://raw.githubusercontent.com/moravianlives/moravianlives/master/Bethlehem_UK-Image-lists/Fulneck_ImageFiles.md\"\n",
        "authors_url_dict = extract_url_links(url)\n",
        "authors_list,train_patches_list,test_patches_list,train_tags_list,test_tags_list,test_img_ids = create_and_prep_patches(authors_url_dict)\n",
        "\n",
        "NUM_AUTHORS = len(authors_list)\n",
        "\n",
        "prediction_dataframe = fit_and_predict(train_patches_list, train_tags_list, test_patches_list, test_tags_list, authors_list, test_img_ids)\n",
        "images_accuracy = plot_results(authors_list,prediction_dataframe)\n",
        "#results_to_csv(prediction_dataframe,images_accuracy)"
      ],
      "execution_count": 0,
      "outputs": [
        {
          "output_type": "stream",
          "text": [
            "Creating testset for Benade, Samuel\n",
            "Number of testpatches for http://moravianlives.bucknell.edu/MAF/Ful_3_78_BenadeSamuel-62.jpg: 15\n",
            "Number of testpatches for http://moravianlives.bucknell.edu/MAF/Ful_3_78_BenadeSamuel-10.jpg: 15\n",
            "Number of testpatches for http://moravianlives.bucknell.edu/MAF/Ful_3_78_BenadeSamuel-52.jpg: 15\n",
            "Number of testpatches for http://moravianlives.bucknell.edu/MAF/Ful_3_78_BenadeSamuel-02.jpg: 15\n",
            "Number of testpatches for http://moravianlives.bucknell.edu/MAF/Ful_3_78_BenadeSamuel-36.jpg: 15\n",
            "Number of testpatches for http://moravianlives.bucknell.edu/MAF/Ful_3_78_BenadeSamuel-04.jpg: 15\n",
            "Number of testpatches for http://moravianlives.bucknell.edu/MAF/Ful_3_78_BenadeSamuel-17.jpg: 15\n",
            "Creating trainset for Benade, Samuel\n",
            "Number of training patches from Benade, Samuel: 300\n",
            "Creating testset for Bradley, Rachel\n",
            "Number of testpatches for http://moravianlives.bucknell.edu/MAF/Ful_SS_44Bradley-04.jpg: 15\n",
            "Creating trainset for Bradley, Rachel\n",
            "Number of training patches from Bradley, Rachel: 300\n",
            "Creating testset for Cennick, Sarah\n",
            "Number of testpatches for http://moravianlives.bucknell.edu/MAF/Ful_SS_68Cennick-08.jpg: 15\n",
            "Creating trainset for Cennick, Sarah\n",
            "Number of training patches from Cennick, Sarah: 300\n",
            "Creating testset for Clagget, Elizabeth\n",
            "Number of testpatches for http://moravianlives.bucknell.edu/MAF/Ful_SS_57Clagget-12.jpg: 15\n",
            "Creating trainset for Clagget, Elizabeth\n",
            "Number of training patches from Clagget, Elizabeth: 300\n",
            "Creating testset for Clerk, Esther\n",
            "Number of testpatches for http://moravianlives.bucknell.edu/MAF/Ful_SS_14_2ClarkEsther-01.jpg: 15\n",
            "Creating trainset for Clerk, Esther\n",
            "Number of training patches from Clerk, Esther: 300\n",
            "Creating testset for Edwards, Ann Georgiana\n"
          ],
          "name": "stdout"
        },
        {
          "output_type": "display_data",
          "data": {
            "image/png": "[encoded data removed]",
            "text/plain": [
              "<Figure size 432x288 with 1 Axes>"
            ]
          },
          "metadata": {
            "tags": []
          }
        },
        {
          "output_type": "stream",
          "text": [
            "Tried 200 Times on http://moravianlives.bucknell.edu/MAF/Ful_SS_56Edwards-09.jpg\n",
            "Number of testpatches for http://moravianlives.bucknell.edu/MAF/Ful_SS_56Edwards-09.jpg: 14\n",
            "Creating trainset for Edwards, Ann Georgiana\n",
            "Number of training patches from Edwards, Ann Georgiana: 300\n",
            "Creating testset for Fletcher, Sarah Ann\n",
            "Number of testpatches for http://moravianlives.bucknell.edu/MAF/Ful_SS_53Fletcher-10.jpg: 15\n",
            "Number of testpatches for http://moravianlives.bucknell.edu/MAF/Ful_SS_53Fletcher-11.jpg: 15\n",
            "Creating trainset for Fletcher, Sarah Ann\n",
            "Number of training patches from Fletcher, Sarah Ann: 300\n",
            "Creating testset for Larisch, Charles\n",
            "Number of testpatches for http://moravianlives.bucknell.edu/MAF/Ful_3_05_LarischCharles-11.jpg: 15\n",
            "Creating trainset for Larisch, Charles\n",
            "Number of training patches from Larisch, Charles: 300\n",
            "Creating testset for Molther, Philip Henry\n",
            "Number of testpatches for http://moravianlives.bucknell.edu/MAF/Ful_3_04_MoltherPhilipHenry-08.jpg: 15\n",
            "Number of testpatches for http://moravianlives.bucknell.edu/MAF/Ful_3_04_MoltherPhilipHenry-05.jpg: 15\n",
            "Number of testpatches for http://moravianlives.bucknell.edu/MAF/Ful_3_04_MoltherPhilipHenry-15.jpg: 15\n",
            "Creating trainset for Molther, Philip Henry\n",
            "Number of training patches from Molther, Philip Henry: 300\n",
            "Creating testset for Ramftler, Christian Friedrich\n",
            "Number of testpatches for http://moravianlives.bucknell.edu/MAF/Ful_3_03_RamftlerCF-21.jpg: 15\n",
            "Number of testpatches for http://moravianlives.bucknell.edu/MAF/Ful_3_03_RamftlerCF-15.jpg: 15\n",
            "Number of testpatches for http://moravianlives.bucknell.edu/MAF/Ful_3_03_RamftlerCF-18.jpg: 15\n",
            "Number of testpatches for http://moravianlives.bucknell.edu/MAF/Ful_3_03_RamftlerCF-20.jpg: 15\n",
            "Number of testpatches for http://moravianlives.bucknell.edu/MAF/Ful_3_03_RamftlerCF-49.jpg: 15\n",
            "Number of testpatches for http://moravianlives.bucknell.edu/MAF/Ful_3_03_RamftlerCF-31.jpg: 15\n",
            "Creating trainset for Ramftler, Christian Friedrich\n",
            "Number of training patches from Ramftler, Christian Friedrich: 300\n",
            "Creating testset for Rothera, Esther\n",
            "Number of testpatches for http://moravianlives.bucknell.edu/MAF/Ful_3_45_RotheraEsther-10.jpg: 15\n",
            "Creating trainset for Rothera, Esther\n",
            "Number of training patches from Rothera, Esther: 300\n",
            "Creating testset for Thornton, Mary Elizabeth\n",
            "Number of testpatches for http://moravianlives.bucknell.edu/MAF/Ful_SS_51Thornton-04.jpg: 15\n",
            "Creating trainset for Thornton, Mary Elizabeth\n",
            "Number of training patches from Thornton, Mary Elizabeth: 300\n",
            "Creating testset for Woodhouse, Margaret\n",
            "Number of testpatches for http://moravianlives.bucknell.edu/MAF/Ful_SS_66Woodhouse-04.jpg: 15\n",
            "Number of testpatches for http://moravianlives.bucknell.edu/MAF/Ful_SS_66Woodhouse-09.jpg: 15\n",
            "Creating trainset for Woodhouse, Margaret\n",
            "Number of training patches from Woodhouse, Margaret: 300\n",
            "Finished Creating Patches\n"
          ],
          "name": "stdout"
        },
        {
          "output_type": "stream",
          "text": [
            "WARNING: Logging before flag parsing goes to stderr.\n",
            "W0804 20:49:01.302321 140665072445312 deprecation_wrapper.py:119] From /usr/local/lib/python3.6/dist-packages/keras/backend/tensorflow_backend.py:74: The name tf.get_default_graph is deprecated. Please use tf.compat.v1.get_default_graph instead.\n",
            "\n",
            "W0804 20:49:01.343076 140665072445312 deprecation_wrapper.py:119] From /usr/local/lib/python3.6/dist-packages/keras/backend/tensorflow_backend.py:517: The name tf.placeholder is deprecated. Please use tf.compat.v1.placeholder instead.\n",
            "\n",
            "W0804 20:49:01.358455 140665072445312 deprecation_wrapper.py:119] From /usr/local/lib/python3.6/dist-packages/keras/backend/tensorflow_backend.py:4138: The name tf.random_uniform is deprecated. Please use tf.random.uniform instead.\n",
            "\n",
            "W0804 20:49:01.392432 140665072445312 deprecation_wrapper.py:119] From /usr/local/lib/python3.6/dist-packages/keras/backend/tensorflow_backend.py:3976: The name tf.nn.max_pool is deprecated. Please use tf.nn.max_pool2d instead.\n",
            "\n",
            "W0804 20:49:01.444006 140665072445312 deprecation_wrapper.py:119] From /usr/local/lib/python3.6/dist-packages/keras/backend/tensorflow_backend.py:133: The name tf.placeholder_with_default is deprecated. Please use tf.compat.v1.placeholder_with_default instead.\n",
            "\n",
            "W0804 20:49:01.456133 140665072445312 deprecation.py:506] From /usr/local/lib/python3.6/dist-packages/keras/backend/tensorflow_backend.py:3445: calling dropout (from tensorflow.python.ops.nn_ops) with keep_prob is deprecated and will be removed in a future version.\n",
            "Instructions for updating:\n",
            "Please use `rate` instead of `keep_prob`. Rate should be set to `rate = 1 - keep_prob`.\n",
            "W0804 20:49:01.576266 140665072445312 deprecation_wrapper.py:119] From /usr/local/lib/python3.6/dist-packages/keras/optimizers.py:790: The name tf.train.Optimizer is deprecated. Please use tf.compat.v1.train.Optimizer instead.\n",
            "\n",
            "W0804 20:49:01.588673 140665072445312 deprecation_wrapper.py:119] From /usr/local/lib/python3.6/dist-packages/keras/backend/tensorflow_backend.py:3295: The name tf.log is deprecated. Please use tf.math.log instead.\n",
            "\n",
            "W0804 20:49:01.737803 140665072445312 deprecation.py:323] From /usr/local/lib/python3.6/dist-packages/tensorflow/python/ops/math_grad.py:1250: add_dispatch_support.<locals>.wrapper (from tensorflow.python.ops.array_ops) is deprecated and will be removed in a future version.\n",
            "Instructions for updating:\n",
            "Use tf.where in 2.0, which has the same broadcast rule as np.where\n"
          ],
          "name": "stderr"
        },
        {
          "output_type": "stream",
          "text": [
            "_________________________________________________________________\n",
            "Layer (type)                 Output Shape              Param #   \n",
            "=================================================================\n",
            "zero_padding2d_1 (ZeroPaddin (None, 102, 202, 1)       0         \n",
            "_________________________________________________________________\n",
            "conv1 (Conv2D)               (None, 102, 202, 32)      320       \n",
            "_________________________________________________________________\n",
            "pool1 (MaxPooling2D)         (None, 51, 101, 32)       0         \n",
            "_________________________________________________________________\n",
            "conv2 (Conv2D)               (None, 51, 101, 64)       18496     \n",
            "_________________________________________________________________\n",
            "pool2 (MaxPooling2D)         (None, 25, 50, 64)        0         \n",
            "_________________________________________________________________\n",
            "conv3 (Conv2D)               (None, 25, 50, 128)       73856     \n",
            "_________________________________________________________________\n",
            "pool3 (MaxPooling2D)         (None, 12, 25, 128)       0         \n",
            "_________________________________________________________________\n",
            "flatten_1 (Flatten)          (None, 38400)             0         \n",
            "_________________________________________________________________\n",
            "dropout_1 (Dropout)          (None, 38400)             0         \n",
            "_________________________________________________________________\n",
            "dense3 (Dense)               (None, 128)               4915328   \n",
            "_________________________________________________________________\n",
            "dropout_2 (Dropout)          (None, 128)               0         \n",
            "_________________________________________________________________\n",
            "dense4 (Dense)               (None, 64)                8256      \n",
            "_________________________________________________________________\n",
            "dropout_3 (Dropout)          (None, 64)                0         \n",
            "_________________________________________________________________\n",
            "output (Dense)               (None, 13)                845       \n",
            "=================================================================\n",
            "Total params: 5,017,101\n",
            "Trainable params: 5,017,101\n",
            "Non-trainable params: 0\n",
            "_________________________________________________________________\n",
            "None\n",
            "Epoch 1/100\n",
            "3900/3900 [==============================] - 14s 4ms/step - loss: 2.5695 - acc: 0.0754\n",
            "Epoch 2/100\n",
            "3900/3900 [==============================] - 7s 2ms/step - loss: 2.5580 - acc: 0.0885\n",
            "Epoch 3/100\n",
            "3900/3900 [==============================] - 7s 2ms/step - loss: 2.4092 - acc: 0.1500\n",
            "Epoch 4/100\n",
            "3900/3900 [==============================] - 7s 2ms/step - loss: 2.1452 - acc: 0.2495\n",
            "Epoch 5/100\n",
            "3900/3900 [==============================] - 7s 2ms/step - loss: 1.9914 - acc: 0.2992\n",
            "Epoch 6/100\n",
            "3900/3900 [==============================] - 7s 2ms/step - loss: 1.8803 - acc: 0.3326\n",
            "Epoch 7/100\n",
            "3900/3900 [==============================] - 7s 2ms/step - loss: 1.7472 - acc: 0.3792\n",
            "Epoch 8/100\n",
            "3900/3900 [==============================] - 7s 2ms/step - loss: 1.5941 - acc: 0.4433\n",
            "Epoch 9/100\n",
            "3900/3900 [==============================] - 7s 2ms/step - loss: 1.3760 - acc: 0.5269\n",
            "Epoch 10/100\n",
            "3900/3900 [==============================] - 7s 2ms/step - loss: 1.2321 - acc: 0.5777\n",
            "Epoch 11/100\n",
            "3900/3900 [==============================] - 7s 2ms/step - loss: 1.0889 - acc: 0.6244\n",
            "Epoch 12/100\n",
            "3900/3900 [==============================] - 7s 2ms/step - loss: 1.0010 - acc: 0.6523\n",
            "Epoch 13/100\n",
            "3900/3900 [==============================] - 7s 2ms/step - loss: 0.8859 - acc: 0.6892\n",
            "Epoch 14/100\n",
            "3900/3900 [==============================] - 7s 2ms/step - loss: 0.8185 - acc: 0.7218\n",
            "Epoch 15/100\n",
            "3900/3900 [==============================] - 7s 2ms/step - loss: 0.7324 - acc: 0.7449\n",
            "Epoch 16/100\n",
            "3900/3900 [==============================] - 7s 2ms/step - loss: 0.6651 - acc: 0.7674\n",
            "Epoch 17/100\n",
            "3900/3900 [==============================] - 7s 2ms/step - loss: 0.6209 - acc: 0.7846\n",
            "Epoch 18/100\n",
            "3900/3900 [==============================] - 7s 2ms/step - loss: 0.5604 - acc: 0.8110\n",
            "Epoch 19/100\n",
            "3900/3900 [==============================] - 7s 2ms/step - loss: 0.5011 - acc: 0.8310\n",
            "Epoch 20/100\n",
            "3900/3900 [==============================] - 7s 2ms/step - loss: 0.4524 - acc: 0.8421\n",
            "Epoch 21/100\n",
            "3900/3900 [==============================] - 7s 2ms/step - loss: 0.4329 - acc: 0.8538\n",
            "Epoch 22/100\n",
            "3900/3900 [==============================] - 7s 2ms/step - loss: 0.4023 - acc: 0.8631\n",
            "Epoch 23/100\n",
            " 800/3900 [=====>........................] - ETA: 5s - loss: 0.4163 - acc: 0.8662"
          ],
          "name": "stdout"
        }
      ]
    }
  ]
}